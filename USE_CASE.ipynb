{
  "nbformat": 4,
  "nbformat_minor": 0,
  "metadata": {
    "colab": {
      "provenance": [],
      "authorship_tag": "ABX9TyMh4mxM2gjaJmGEn9v6ZAGf",
      "include_colab_link": true
    },
    "kernelspec": {
      "name": "python3",
      "display_name": "Python 3"
    },
    "language_info": {
      "name": "python"
    }
  },
  "cells": [
    {
      "cell_type": "markdown",
      "metadata": {
        "id": "view-in-github",
        "colab_type": "text"
      },
      "source": [
        "<a href=\"https://colab.research.google.com/github/poreddysai06/python/blob/main/USE_CASE.ipynb\" target=\"_parent\"><img src=\"https://colab.research.google.com/assets/colab-badge.svg\" alt=\"Open In Colab\"/></a>"
      ]
    },
    {
      "cell_type": "code",
      "execution_count": 1,
      "metadata": {
        "colab": {
          "base_uri": "https://localhost:8080/"
        },
        "id": "mMthCrUiTGOh",
        "outputId": "8e5f5149-8a92-451c-bf5f-6996c1647229"
      },
      "outputs": [
        {
          "output_type": "stream",
          "name": "stdout",
          "text": [
            "\n",
            "Round 1:\n",
            "Player A draws: 2 of Spades\n",
            "Player B draws: 10 of Spades\n",
            "Player B wins the round!\n",
            "\n",
            "Round 2:\n",
            "Player A draws: 9 of Spades\n",
            "Player B draws: King of Clubs\n",
            "Player B wins the round!\n",
            "\n",
            "Round 3:\n",
            "Player A draws: Queen of Hearts\n",
            "Player B draws: 3 of Spades\n",
            "Player A wins the round!\n",
            "\n",
            "Round 4:\n",
            "Player A draws: 5 of Spades\n",
            "Player B draws: 6 of Clubs\n",
            "Player B wins the round!\n",
            "\n",
            "Round 5:\n",
            "Player A draws: King of Hearts\n",
            "Player B draws: Queen of Spades\n",
            "Player A wins the round!\n",
            "\n",
            "Final Scores:\n",
            "Player A: 2 rounds won\n",
            "Player B: 3 rounds won\n",
            "Player B is the overall winner!\n"
          ]
        }
      ],
      "source": [
        "import random\n",
        "# Define the card deck\n",
        "SUITS = ['Hearts', 'Diamonds', 'Clubs', 'Spades']\n",
        "RANKS = ['2', '3', '4', '5', '6', '7', '8', '9', '10', 'Jack', 'Queen', 'King', 'Ace']\n",
        "DECK = [(rank, suit) for suit in SUITS for rank in RANKS]\n",
        "def card_value(card):\n",
        "    return RANKS.index(card[0])\n",
        "def draw_card(deck):\n",
        "    card = random.choice(deck)\n",
        "    deck.remove(card)\n",
        "    return card\n",
        "def play_game(num_rounds):\n",
        "    deck = DECK.copy()  # Make a copy of the deck\n",
        "    score_A = 0\n",
        "    score_B = 0\n",
        "    for round_num in range(1, num_rounds + 1):\n",
        "        print(f\"\\nRound {round_num}:\")\n",
        "        card_A = draw_card(deck)\n",
        "        card_B = draw_card(deck)\n",
        "        print(f\"Player A draws: {card_A[0]} of {card_A[1]}\")\n",
        "        print(f\"Player B draws: {card_B[0]} of {card_B[1]}\")\n",
        "        if card_value(card_A) > card_value(card_B):\n",
        "            score_A += 1\n",
        "            print(\"Player A wins the round!\")\n",
        "        elif card_value(card_A) < card_value(card_B):\n",
        "            score_B += 1\n",
        "            print(\"Player B wins the round!\")\n",
        "        else:\n",
        "            print(\"It's a tie!\")\n",
        "    print(\"\\nFinal Scores:\")\n",
        "    print(f\"Player A: {score_A} rounds won\")\n",
        "    print(f\"Player B: {score_B} rounds won\")\n",
        "    if score_A > score_B:\n",
        "        print(\"Player A is the overall winner!\")\n",
        "    elif score_A < score_B:\n",
        "        print(\"Player B is the overall winner!\")\n",
        "    else:\n",
        "        print(\"The game ends in a tie!\")\n",
        "play_game(5)"
      ]
    }
  ]
}